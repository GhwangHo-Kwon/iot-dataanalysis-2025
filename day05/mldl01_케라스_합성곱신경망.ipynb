{
 "cells": [
  {
   "cell_type": "markdown",
   "id": "84a41fd6",
   "metadata": {},
   "source": [
    "## 합성곱 신경망 \n",
    "\n",
    "### 패션 MNIST CNN\n",
    "\n",
    "- "
   ]
  },
  {
   "cell_type": "code",
   "execution_count": 1,
   "id": "a77a903a",
   "metadata": {},
   "outputs": [
    {
     "name": "stdout",
     "output_type": "stream",
     "text": [
      "WARNING:tensorflow:From c:\\Source\\iot-dataanalysis-2025\\mlvenv\\Lib\\site-packages\\keras\\src\\losses.py:2976: The name tf.losses.sparse_softmax_cross_entropy is deprecated. Please use tf.compat.v1.losses.sparse_softmax_cross_entropy instead.\n",
      "\n"
     ]
    }
   ],
   "source": [
    "from tensorflow import keras\n",
    "from sklearn.model_selection import train_test_split"
   ]
  },
  {
   "cell_type": "code",
   "execution_count": 2,
   "id": "481b0c07",
   "metadata": {},
   "outputs": [],
   "source": [
    "(train_input, train_target), (test_input, test_target) = keras.datasets.fashion_mnist.load_data()"
   ]
  },
  {
   "cell_type": "code",
   "execution_count": 3,
   "id": "1d5a3ee0",
   "metadata": {},
   "outputs": [
    {
     "name": "stdout",
     "output_type": "stream",
     "text": [
      "(60000, 28, 28) (10000, 28, 28)\n"
     ]
    }
   ],
   "source": [
    "print(train_input.shape, test_input.shape)"
   ]
  },
  {
   "cell_type": "code",
   "execution_count": 4,
   "id": "6277bd2b",
   "metadata": {},
   "outputs": [],
   "source": [
    "# 255.0 - 정규화처리\n",
    "# reshape(-1, 28, 28, 1) - 4차원 배열로 변경\n",
    "train_scaled = train_input.reshape(-1, 28, 28, 1) / 255.0"
   ]
  },
  {
   "cell_type": "code",
   "execution_count": 5,
   "id": "aaf5e598",
   "metadata": {},
   "outputs": [
    {
     "data": {
      "text/plain": [
       "(60000, 28, 28, 1)"
      ]
     },
     "execution_count": 5,
     "metadata": {},
     "output_type": "execute_result"
    }
   ],
   "source": [
    "train_scaled.shape"
   ]
  },
  {
   "cell_type": "code",
   "execution_count": 6,
   "id": "f99c2b5d",
   "metadata": {},
   "outputs": [],
   "source": [
    "test_scaled = test_input.reshape(-1, 28, 28, 1) / 255.0"
   ]
  },
  {
   "cell_type": "code",
   "execution_count": 7,
   "id": "06a78ea4",
   "metadata": {},
   "outputs": [
    {
     "data": {
      "text/plain": [
       "(10000, 28, 28, 1)"
      ]
     },
     "execution_count": 7,
     "metadata": {},
     "output_type": "execute_result"
    }
   ],
   "source": [
    "test_scaled.shape"
   ]
  },
  {
   "cell_type": "markdown",
   "id": "64088459",
   "metadata": {},
   "source": [
    "- train_scaled에서 1차원을 더 추가한 이유\n",
    "- channel 값 : 흑백이기 때문에 1채널만 있으면 됨\n",
    "    - 60000(데이터수), 28(이미지넓이), 28(이미지높이), 1(입력채널)"
   ]
  },
  {
   "cell_type": "code",
   "execution_count": 8,
   "id": "c1d211ff",
   "metadata": {},
   "outputs": [],
   "source": [
    "## 훈련세트, 검증세트 분리\n",
    "train_scaled, val_scaled, train_target, val_target = train_test_split(\n",
    "    train_scaled, train_target, test_size=0.2, random_state=42\n",
    ")"
   ]
  },
  {
   "cell_type": "code",
   "execution_count": 9,
   "id": "e7be1e02",
   "metadata": {},
   "outputs": [
    {
     "name": "stdout",
     "output_type": "stream",
     "text": [
      "(48000, 28, 28, 1) (12000, 28, 28, 1)\n",
      "(48000,) (12000,)\n"
     ]
    }
   ],
   "source": [
    "print(train_scaled.shape, val_scaled.shape)\n",
    "print(train_target.shape, val_target.shape)\n"
   ]
  },
  {
   "cell_type": "markdown",
   "id": "c25aef19",
   "metadata": {},
   "source": [
    "### 합성곱 신경망 만들기"
   ]
  },
  {
   "cell_type": "code",
   "execution_count": 10,
   "id": "56ce16f2",
   "metadata": {},
   "outputs": [
    {
     "name": "stdout",
     "output_type": "stream",
     "text": [
      "WARNING:tensorflow:From c:\\Source\\iot-dataanalysis-2025\\mlvenv\\Lib\\site-packages\\keras\\src\\backend.py:873: The name tf.get_default_graph is deprecated. Please use tf.compat.v1.get_default_graph instead.\n",
      "\n"
     ]
    }
   ],
   "source": [
    "model = keras.Sequential(name='CNN1')\n",
    "\n",
    "# 32 -> 합성곱 층의 필터 갯수\n",
    "# kernel_size, 3 -> (3x3)\n",
    "# padding, same -> 패딩 추가해서 특성맵사이즈를 원본과 동일하게\n",
    "model.add(keras.layers.Conv2D(32, kernel_size=3, activation='relu', padding='same', input_shape=(28, 28, 1)))"
   ]
  },
  {
   "cell_type": "code",
   "execution_count": 11,
   "id": "93301676",
   "metadata": {},
   "outputs": [
    {
     "name": "stdout",
     "output_type": "stream",
     "text": [
      "Model: \"CNN1\"\n",
      "_________________________________________________________________\n",
      " Layer (type)                Output Shape              Param #   \n",
      "=================================================================\n",
      " conv2d (Conv2D)             (None, 28, 28, 32)        320       \n",
      "                                                                 \n",
      "=================================================================\n",
      "Total params: 320 (1.25 KB)\n",
      "Trainable params: 320 (1.25 KB)\n",
      "Non-trainable params: 0 (0.00 Byte)\n",
      "_________________________________________________________________\n"
     ]
    }
   ],
   "source": [
    "model.summary()"
   ]
  },
  {
   "cell_type": "code",
   "execution_count": 12,
   "id": "b860f16f",
   "metadata": {},
   "outputs": [
    {
     "name": "stdout",
     "output_type": "stream",
     "text": [
      "WARNING:tensorflow:From c:\\Source\\iot-dataanalysis-2025\\mlvenv\\Lib\\site-packages\\keras\\src\\layers\\pooling\\max_pooling2d.py:161: The name tf.nn.max_pool is deprecated. Please use tf.nn.max_pool2d instead.\n",
      "\n"
     ]
    }
   ],
   "source": [
    "model.add(keras.layers.MaxPooling2D(2))   # 특성맵이 반으로 줄어듬. 14x14 사이즈의 특성맵"
   ]
  },
  {
   "cell_type": "code",
   "execution_count": 13,
   "id": "e808f2ac",
   "metadata": {},
   "outputs": [
    {
     "name": "stdout",
     "output_type": "stream",
     "text": [
      "Model: \"CNN1\"\n",
      "_________________________________________________________________\n",
      " Layer (type)                Output Shape              Param #   \n",
      "=================================================================\n",
      " conv2d (Conv2D)             (None, 28, 28, 32)        320       \n",
      "                                                                 \n",
      " max_pooling2d (MaxPooling2  (None, 14, 14, 32)        0         \n",
      " D)                                                              \n",
      "                                                                 \n",
      "=================================================================\n",
      "Total params: 320 (1.25 KB)\n",
      "Trainable params: 320 (1.25 KB)\n",
      "Non-trainable params: 0 (0.00 Byte)\n",
      "_________________________________________________________________\n"
     ]
    }
   ],
   "source": [
    "model.summary()"
   ]
  },
  {
   "cell_type": "code",
   "execution_count": 14,
   "id": "39a1a45d",
   "metadata": {},
   "outputs": [],
   "source": [
    "# 두번째 합성곱/풀링층 추가\n",
    "model.add(keras.layers.Conv2D(64, kernel_size=3, activation='relu', padding='same'))\n",
    "model.add(keras.layers.MaxPooling2D(2))  # 사이즈 반으로, 7x7x64 특성맵 -> 3136 출력"
   ]
  },
  {
   "cell_type": "code",
   "execution_count": 15,
   "id": "2abd23ea",
   "metadata": {},
   "outputs": [],
   "source": [
    "# 심층신경망을 붙임\n",
    "model.add(keras.layers.Flatten())\n",
    "model.add(keras.layers.Dense(100, activation='relu'))\n",
    "model.add(keras.layers.Dropout(0.4))  \n",
    "model.add(keras.layers.Dense(10, activation='softmax'))"
   ]
  },
  {
   "cell_type": "markdown",
   "id": "4d47c3fd",
   "metadata": {},
   "source": [
    "#### 위에 까지 학습을 위해서 나눠놓은 것\n",
    "- 아래에 다시 하나의 셀에 합침"
   ]
  },
  {
   "cell_type": "code",
   "execution_count": 16,
   "id": "e6ba07e2",
   "metadata": {},
   "outputs": [],
   "source": [
    "model = keras.Sequential(name='CNN1')\n",
    "\n",
    "# 32 -> 합성곱 층의 필터 갯수\n",
    "# kernel_size, 3 -> (3x3)\n",
    "# padding, same -> 패딩 추가해서 특성맵사이즈를 원본과 동일하게\n",
    "model.add(keras.layers.Conv2D(32, kernel_size=3, activation='relu', padding='same', input_shape=(28, 28, 1), name='First_CNN'))\n",
    "model.add(keras.layers.MaxPooling2D(2, name='First_Pooling'))   # 특성맵이 반으로 줄어듬. 14x14 사이즈의 특성맵\n",
    "\n",
    "# 두번째 합성곱/풀링층 추가\n",
    "model.add(keras.layers.Conv2D(64, kernel_size=3, activation='relu', padding='same', name='Second_CNN'))\n",
    "model.add(keras.layers.MaxPooling2D(2, name='Second_Pooling'))  # 사이즈 반으로, 7x7x64 특성맵 -> 3136 출력\n",
    "\n",
    "# 심층신경망을 붙임\n",
    "model.add(keras.layers.Flatten(name='Flatten'))\n",
    "model.add(keras.layers.Dense(100, activation='relu', name='Hidden'))\n",
    "model.add(keras.layers.Dropout(0.4, name='Dropout'))  \n",
    "model.add(keras.layers.Dense(10, activation='softmax', name='Output'))"
   ]
  },
  {
   "cell_type": "code",
   "execution_count": 17,
   "id": "9cd525d5",
   "metadata": {},
   "outputs": [
    {
     "name": "stdout",
     "output_type": "stream",
     "text": [
      "Model: \"CNN1\"\n",
      "_________________________________________________________________\n",
      " Layer (type)                Output Shape              Param #   \n",
      "=================================================================\n",
      " First_CNN (Conv2D)          (None, 28, 28, 32)        320       \n",
      "                                                                 \n",
      " First_Pooling (MaxPooling2  (None, 14, 14, 32)        0         \n",
      " D)                                                              \n",
      "                                                                 \n",
      " Second_CNN (Conv2D)         (None, 14, 14, 64)        18496     \n",
      "                                                                 \n",
      " Second_Pooling (MaxPooling  (None, 7, 7, 64)          0         \n",
      " 2D)                                                             \n",
      "                                                                 \n",
      " Flatten (Flatten)           (None, 3136)              0         \n",
      "                                                                 \n",
      " Hidden (Dense)              (None, 100)               313700    \n",
      "                                                                 \n",
      " Dropout (Dropout)           (None, 100)               0         \n",
      "                                                                 \n",
      " Output (Dense)              (None, 10)                1010      \n",
      "                                                                 \n",
      "=================================================================\n",
      "Total params: 333526 (1.27 MB)\n",
      "Trainable params: 333526 (1.27 MB)\n",
      "Non-trainable params: 0 (0.00 Byte)\n",
      "_________________________________________________________________\n"
     ]
    }
   ],
   "source": [
    "model.summary()"
   ]
  },
  {
   "cell_type": "markdown",
   "id": "95530caf",
   "metadata": {},
   "source": [
    "- graphviz 설치\n",
    "- pydot 파이썬 모듈 설치\n",
    "- VS Code 재시작"
   ]
  },
  {
   "cell_type": "code",
   "execution_count": 18,
   "id": "4e3a3dec",
   "metadata": {},
   "outputs": [
    {
     "name": "stdout",
     "output_type": "stream",
     "text": [
      "Collecting pydot\n",
      "  Downloading pydot-3.0.4-py3-none-any.whl.metadata (10 kB)\n",
      "Requirement already satisfied: pyparsing>=3.0.9 in c:\\source\\iot-dataanalysis-2025\\mlvenv\\lib\\site-packages (from pydot) (3.2.3)\n",
      "Downloading pydot-3.0.4-py3-none-any.whl (35 kB)\n",
      "Installing collected packages: pydot\n",
      "Successfully installed pydot-3.0.4\n"
     ]
    },
    {
     "name": "stderr",
     "output_type": "stream",
     "text": [
      "\n",
      "[notice] A new release of pip is available: 24.0 -> 25.0.1\n",
      "[notice] To update, run: python.exe -m pip install --upgrade pip\n"
     ]
    }
   ],
   "source": [
    "!pip install pydot"
   ]
  },
  {
   "cell_type": "code",
   "execution_count": 19,
   "id": "eb07ae87",
   "metadata": {},
   "outputs": [
    {
     "name": "stdout",
     "output_type": "stream",
     "text": [
      "You must install pydot (`pip install pydot`) and install graphviz (see instructions at https://graphviz.gitlab.io/download/) for plot_model to work.\n"
     ]
    }
   ],
   "source": [
    "# 모델 시각화 - 나중에\n",
    "keras.utils.plot_model(model)"
   ]
  },
  {
   "cell_type": "code",
   "execution_count": 20,
   "id": "b1fc985e",
   "metadata": {},
   "outputs": [
    {
     "name": "stdout",
     "output_type": "stream",
     "text": [
      "You must install pydot (`pip install pydot`) and install graphviz (see instructions at https://graphviz.gitlab.io/download/) for plot_model to work.\n"
     ]
    }
   ],
   "source": [
    "## 상세 모델 시각화\n",
    "keras.utils.plot_model(model, show_shapes=True)"
   ]
  },
  {
   "cell_type": "markdown",
   "id": "6bcf47cf",
   "metadata": {},
   "source": [
    "#### 모델 컴파일, 훈련"
   ]
  },
  {
   "cell_type": "code",
   "execution_count": 21,
   "id": "f0b125fa",
   "metadata": {},
   "outputs": [
    {
     "name": "stdout",
     "output_type": "stream",
     "text": [
      "WARNING:tensorflow:From c:\\Source\\iot-dataanalysis-2025\\mlvenv\\Lib\\site-packages\\keras\\src\\optimizers\\__init__.py:309: The name tf.train.Optimizer is deprecated. Please use tf.compat.v1.train.Optimizer instead.\n",
      "\n"
     ]
    }
   ],
   "source": [
    "# 모델 컴파일\n",
    "model.compile(optimizer='adam', loss='sparse_categorical_crossentropy', metrics='accuracy')\n",
    "\n",
    "checkpoint_cb = keras.callbacks.ModelCheckpoint('best-cnn-model.h5', save_best_only=True)\n",
    "early_stopping_cb = keras.callbacks.EarlyStopping(patience=2, restore_best_weights=True)"
   ]
  },
  {
   "cell_type": "code",
   "execution_count": 22,
   "id": "bea050c0",
   "metadata": {},
   "outputs": [
    {
     "name": "stdout",
     "output_type": "stream",
     "text": [
      "Epoch 1/50\n",
      "WARNING:tensorflow:From c:\\Source\\iot-dataanalysis-2025\\mlvenv\\Lib\\site-packages\\keras\\src\\utils\\tf_utils.py:492: The name tf.ragged.RaggedTensorValue is deprecated. Please use tf.compat.v1.ragged.RaggedTensorValue instead.\n",
      "\n",
      "WARNING:tensorflow:From c:\\Source\\iot-dataanalysis-2025\\mlvenv\\Lib\\site-packages\\keras\\src\\engine\\base_layer_utils.py:384: The name tf.executing_eagerly_outside_functions is deprecated. Please use tf.compat.v1.executing_eagerly_outside_functions instead.\n",
      "\n",
      "1500/1500 [==============================] - 13s 8ms/step - loss: 0.5478 - accuracy: 0.8012 - val_loss: 0.3771 - val_accuracy: 0.8605\n",
      "Epoch 2/50\n",
      "  14/1500 [..............................] - ETA: 12s - loss: 0.4120 - accuracy: 0.8594"
     ]
    },
    {
     "name": "stderr",
     "output_type": "stream",
     "text": [
      "c:\\Source\\iot-dataanalysis-2025\\mlvenv\\Lib\\site-packages\\keras\\src\\engine\\training.py:3103: UserWarning: You are saving your model as an HDF5 file via `model.save()`. This file format is considered legacy. We recommend using instead the native Keras format, e.g. `model.save('my_model.keras')`.\n",
      "  saving_api.save_model(\n"
     ]
    },
    {
     "name": "stdout",
     "output_type": "stream",
     "text": [
      "1500/1500 [==============================] - 13s 9ms/step - loss: 0.3689 - accuracy: 0.8677 - val_loss: 0.2899 - val_accuracy: 0.8907\n",
      "Epoch 3/50\n",
      "1500/1500 [==============================] - 12s 8ms/step - loss: 0.3145 - accuracy: 0.8885 - val_loss: 0.2628 - val_accuracy: 0.9017\n",
      "Epoch 4/50\n",
      "1500/1500 [==============================] - 12s 8ms/step - loss: 0.2802 - accuracy: 0.8976 - val_loss: 0.2519 - val_accuracy: 0.9078\n",
      "Epoch 5/50\n",
      "1500/1500 [==============================] - 13s 8ms/step - loss: 0.2559 - accuracy: 0.9077 - val_loss: 0.2508 - val_accuracy: 0.9103\n",
      "Epoch 6/50\n",
      "1500/1500 [==============================] - 12s 8ms/step - loss: 0.2360 - accuracy: 0.9147 - val_loss: 0.2358 - val_accuracy: 0.9161\n",
      "Epoch 7/50\n",
      "1500/1500 [==============================] - 12s 8ms/step - loss: 0.2199 - accuracy: 0.9187 - val_loss: 0.2311 - val_accuracy: 0.9148\n",
      "Epoch 8/50\n",
      "1500/1500 [==============================] - 12s 8ms/step - loss: 0.2024 - accuracy: 0.9250 - val_loss: 0.2381 - val_accuracy: 0.9150\n",
      "Epoch 9/50\n",
      "1500/1500 [==============================] - 12s 8ms/step - loss: 0.1891 - accuracy: 0.9308 - val_loss: 0.2434 - val_accuracy: 0.9183\n"
     ]
    }
   ],
   "source": [
    "# 모델 훈련\n",
    "history = model.fit(train_scaled, train_target, epochs=50, validation_data=(val_scaled, val_target), callbacks=[checkpoint_cb, early_stopping_cb])"
   ]
  },
  {
   "cell_type": "code",
   "execution_count": 23,
   "id": "6034a412",
   "metadata": {},
   "outputs": [
    {
     "data": {
      "image/png": "[encoded data removed]",
      "text/plain": [
       "<Figure size 640x480 with 1 Axes>"
      ]
     },
     "metadata": {},
     "output_type": "display_data"
    }
   ],
   "source": [
    "# 정확도 확인\n",
    "import matplotlib.pyplot as plt\n",
    "\n",
    "plt.plot(history.history['loss'])\n",
    "plt.plot(history.history['val_loss'])\n",
    "plt.xlabel('epoch')\n",
    "plt.ylabel('loss')\n",
    "plt.legend(['train', 'val'])\n",
    "plt.show()"
   ]
  },
  {
   "cell_type": "code",
   "execution_count": 24,
   "id": "df473ecd",
   "metadata": {},
   "outputs": [
    {
     "name": "stdout",
     "output_type": "stream",
     "text": [
      "375/375 [==============================] - 1s 2ms/step - loss: 0.2311 - accuracy: 0.9148\n"
     ]
    },
    {
     "data": {
      "text/plain": [
       "[0.23106299340724945, 0.9148333072662354]"
      ]
     },
     "execution_count": 24,
     "metadata": {},
     "output_type": "execute_result"
    }
   ],
   "source": [
    "# 모델 검증정확도\n",
    "model.evaluate(val_scaled, val_target)"
   ]
  },
  {
   "cell_type": "code",
   "execution_count": 25,
   "id": "3e393ecc",
   "metadata": {},
   "outputs": [
    {
     "data": {
      "image/png": "[encoded data removed]",
      "text/plain": [
       "<Figure size 640x480 with 1 Axes>"
      ]
     },
     "metadata": {},
     "output_type": "display_data"
    }
   ],
   "source": [
    "# val_scaled[0]\n",
    "plt.imshow(val_scaled[0].reshape(28, 28), cmap='gray_r')\n",
    "plt.axis('off')\n",
    "plt.show()"
   ]
  },
  {
   "cell_type": "code",
   "execution_count": 26,
   "id": "cc9ecdec",
   "metadata": {},
   "outputs": [
    {
     "name": "stdout",
     "output_type": "stream",
     "text": [
      "1/1 [==============================] - 0s 87ms/step\n"
     ]
    },
    {
     "data": {
      "text/plain": [
       "array([[0., 0., 0., 0., 0., 0., 0., 0., 1., 0.]], dtype=float32)"
      ]
     },
     "execution_count": 26,
     "metadata": {},
     "output_type": "execute_result"
    }
   ],
   "source": [
    "model.predict(val_scaled[0:1]).round(3)"
   ]
  },
  {
   "cell_type": "markdown",
   "id": "ac3bd6ac",
   "metadata": {},
   "source": [
    "#### 예측 시각화"
   ]
  },
  {
   "cell_type": "code",
   "execution_count": 27,
   "id": "b180e818",
   "metadata": {},
   "outputs": [],
   "source": [
    "import matplotlib.pyplot as plt\n",
    "import seaborn as sns\n",
    "import numpy as np"
   ]
  },
  {
   "cell_type": "code",
   "execution_count": 28,
   "id": "87fc9441",
   "metadata": {},
   "outputs": [],
   "source": [
    "# 한글로 Matplotlib 사용시 항상 필요\n",
    "from matplotlib import rcParams, font_manager, rc\n",
    "\n",
    "font_path = 'C:/Windows/Fonts/malgun.ttf'\n",
    "font = font_manager.FontProperties(fname=font_path).get_name()\n",
    "rc('font', family=font)\n",
    "rcParams['axes.unicode_minus'] = False\n",
    "\n",
    "sns.set_style('darkgrid')\n",
    "sns.set_theme(font='Malgun Gothic', rc={'axes.unicode_minus': False})"
   ]
  },
  {
   "cell_type": "code",
   "execution_count": 29,
   "id": "4f0ace0b",
   "metadata": {},
   "outputs": [],
   "source": [
    "class_names = ['티셔츠', '바지', '스웨터', '드레스', '코트', '샌달', '셔츠', '스니커즈', '가방', '앵클부츠']"
   ]
  },
  {
   "cell_type": "code",
   "execution_count": 30,
   "id": "70ebe9a7",
   "metadata": {},
   "outputs": [
    {
     "name": "stdout",
     "output_type": "stream",
     "text": [
      "313/313 [==============================] - 1s 2ms/step\n"
     ]
    }
   ],
   "source": [
    "pred_result = model.predict(test_scaled)"
   ]
  },
  {
   "cell_type": "code",
   "execution_count": 31,
   "id": "b30d1bab",
   "metadata": {},
   "outputs": [],
   "source": [
    "# 테스트이미지와 예측결과 시각화\n",
    "def show_image(index):\n",
    "    plt.figure(figsize=(2,2))\n",
    "    plt.imshow(test_input[index].reshape(28, 28), cmap='gray_r')\n",
    "    true_label = class_names[test_target[index]]\n",
    "    pred_label = class_names[np.argmax(pred_result[index])]\n",
    "\n",
    "    #plt.title(f'실제: {true_label}, 예측: {pred_label}')\n",
    "    plt.text(0, -6, f'실제: {true_label}', fontsize=12, color='blue')\n",
    "    plt.text(0, -3, f'예측: {pred_label}', fontsize=12, color='red', fontweight='bold')\n",
    "\n",
    "    plt.axis('off')\n",
    "    plt.show()"
   ]
  },
  {
   "cell_type": "code",
   "execution_count": 32,
   "id": "bf4378a0",
   "metadata": {},
   "outputs": [
    {
     "data": {
      "image/png": "[encoded data removed]",
      "text/plain": [
       "<Figure size 200x200 with 1 Axes>"
      ]
     },
     "metadata": {},
     "output_type": "display_data"
    },
    {
     "data": {
      "image/png": "[encoded data removed]",
      "text/plain": [
       "<Figure size 200x200 with 1 Axes>"
      ]
     },
     "metadata": {},
     "output_type": "display_data"
    },
    {
     "data": {
      "image/png": "[encoded data removed]",
      "text/plain": [
       "<Figure size 200x200 with 1 Axes>"
      ]
     },
     "metadata": {},
     "output_type": "display_data"
    },
    {
     "data": {
      "image/png": "[encoded data removed]",
      "text/plain": [
       "<Figure size 200x200 with 1 Axes>"
      ]
     },
     "metadata": {},
     "output_type": "display_data"
    },
    {
     "data": {
      "image/png": "[encoded data removed]",
      "text/plain": [
       "<Figure size 200x200 with 1 Axes>"
      ]
     },
     "metadata": {},
     "output_type": "display_data"
    }
   ],
   "source": [
    "for i in range(40,45):\n",
    "    show_image(i)"
   ]
  },
  {
   "cell_type": "code",
   "execution_count": 33,
   "id": "8de5d5a4",
   "metadata": {},
   "outputs": [
    {
     "name": "stdout",
     "output_type": "stream",
     "text": [
      "313/313 [==============================] - 1s 2ms/step - loss: 0.2486 - accuracy: 0.9102\n"
     ]
    },
    {
     "data": {
      "text/plain": [
       "[0.24855470657348633, 0.9101999998092651]"
      ]
     },
     "execution_count": 33,
     "metadata": {},
     "output_type": "execute_result"
    }
   ],
   "source": [
    "## 테스트세트로 검증\n",
    "model.evaluate(test_scaled, test_target)"
   ]
  },
  {
   "cell_type": "markdown",
   "id": "5681c5ee",
   "metadata": {},
   "source": [
    "#### 저장한 모델 로드"
   ]
  },
  {
   "cell_type": "code",
   "execution_count": 34,
   "id": "c6e770b4",
   "metadata": {},
   "outputs": [],
   "source": [
    "model2 = keras.models.load_model('./best-cnn-model.h5')"
   ]
  },
  {
   "cell_type": "code",
   "execution_count": 35,
   "id": "1fba2f72",
   "metadata": {},
   "outputs": [
    {
     "data": {
      "text/plain": [
       "[<keras.src.layers.convolutional.conv2d.Conv2D at 0x1c864e3ddd0>,\n",
       " <keras.src.layers.pooling.max_pooling2d.MaxPooling2D at 0x1c863e0fd90>,\n",
       " <keras.src.layers.convolutional.conv2d.Conv2D at 0x1c861b0a950>,\n",
       " <keras.src.layers.pooling.max_pooling2d.MaxPooling2D at 0x1c861befd10>,\n",
       " <keras.src.layers.reshaping.flatten.Flatten at 0x1c863d90290>,\n",
       " <keras.src.layers.core.dense.Dense at 0x1c85d60dd50>,\n",
       " <keras.src.layers.regularization.dropout.Dropout at 0x1c863e24cd0>,\n",
       " <keras.src.layers.core.dense.Dense at 0x1c863e352d0>]"
      ]
     },
     "execution_count": 35,
     "metadata": {},
     "output_type": "execute_result"
    }
   ],
   "source": [
    "model2.layers"
   ]
  },
  {
   "cell_type": "code",
   "execution_count": 36,
   "id": "18c8211a",
   "metadata": {},
   "outputs": [
    {
     "name": "stdout",
     "output_type": "stream",
     "text": [
      "Model: \"CNN1\"\n",
      "_________________________________________________________________\n",
      " Layer (type)                Output Shape              Param #   \n",
      "=================================================================\n",
      " First_CNN (Conv2D)          (None, 28, 28, 32)        320       \n",
      "                                                                 \n",
      " First_Pooling (MaxPooling2  (None, 14, 14, 32)        0         \n",
      " D)                                                              \n",
      "                                                                 \n",
      " Second_CNN (Conv2D)         (None, 14, 14, 64)        18496     \n",
      "                                                                 \n",
      " Second_Pooling (MaxPooling  (None, 7, 7, 64)          0         \n",
      " 2D)                                                             \n",
      "                                                                 \n",
      " Flatten (Flatten)           (None, 3136)              0         \n",
      "                                                                 \n",
      " Hidden (Dense)              (None, 100)               313700    \n",
      "                                                                 \n",
      " Dropout (Dropout)           (None, 100)               0         \n",
      "                                                                 \n",
      " Output (Dense)              (None, 10)                1010      \n",
      "                                                                 \n",
      "=================================================================\n",
      "Total params: 333526 (1.27 MB)\n",
      "Trainable params: 333526 (1.27 MB)\n",
      "Non-trainable params: 0 (0.00 Byte)\n",
      "_________________________________________________________________\n"
     ]
    }
   ],
   "source": [
    "model2.summary()"
   ]
  },
  {
   "cell_type": "code",
   "execution_count": 37,
   "id": "864b3e5f",
   "metadata": {},
   "outputs": [
    {
     "data": {
      "text/plain": [
       "<KerasTensor: shape=(None, 28, 28, 1) dtype=float32 (created by layer 'First_CNN_input')>"
      ]
     },
     "execution_count": 37,
     "metadata": {},
     "output_type": "execute_result"
    }
   ],
   "source": [
    "# 모델 입력값 확인\n",
    "model2.input"
   ]
  },
  {
   "cell_type": "code",
   "execution_count": 38,
   "id": "54ef68a6",
   "metadata": {},
   "outputs": [
    {
     "data": {
      "text/plain": [
       "<KerasTensor: shape=(None, 28, 28, 32) dtype=float32 (created by layer 'First_CNN')>"
      ]
     },
     "execution_count": 38,
     "metadata": {},
     "output_type": "execute_result"
    }
   ],
   "source": [
    "model2.layers[0].output"
   ]
  },
  {
   "cell_type": "markdown",
   "id": "68ec7dbf",
   "metadata": {},
   "source": [
    "#### 특성맵 시각화"
   ]
  },
  {
   "cell_type": "code",
   "execution_count": 39,
   "id": "3fca0970",
   "metadata": {},
   "outputs": [
    {
     "data": {
      "image/png": "[encoded data removed]",
      "text/plain": [
       "<Figure size 640x480 with 1 Axes>"
      ]
     },
     "metadata": {},
     "output_type": "display_data"
    }
   ],
   "source": [
    "plt.imshow(train_input[0], cmap='gray_r')\n",
    "plt.axis('off')\n",
    "plt.show()"
   ]
  },
  {
   "cell_type": "code",
   "execution_count": 40,
   "id": "c8305466",
   "metadata": {},
   "outputs": [],
   "source": [
    "# 전체 모델에서 첫번째 합성곱레이어만 떼서 모델로 생성\n",
    "model2_first_layer = keras.Model(model2.input, model2.layers[0].output)"
   ]
  },
  {
   "cell_type": "code",
   "execution_count": 41,
   "id": "843e2e61",
   "metadata": {},
   "outputs": [
    {
     "name": "stdout",
     "output_type": "stream",
     "text": [
      "Model: \"model\"\n",
      "_________________________________________________________________\n",
      " Layer (type)                Output Shape              Param #   \n",
      "=================================================================\n",
      " First_CNN_input (InputLaye  [(None, 28, 28, 1)]       0         \n",
      " r)                                                              \n",
      "                                                                 \n",
      " First_CNN (Conv2D)          (None, 28, 28, 32)        320       \n",
      "                                                                 \n",
      "=================================================================\n",
      "Total params: 320 (1.25 KB)\n",
      "Trainable params: 320 (1.25 KB)\n",
      "Non-trainable params: 0 (0.00 Byte)\n",
      "_________________________________________________________________\n"
     ]
    }
   ],
   "source": [
    "model2_first_layer.summary()"
   ]
  },
  {
   "cell_type": "code",
   "execution_count": 42,
   "id": "b9037428",
   "metadata": {},
   "outputs": [
    {
     "name": "stdout",
     "output_type": "stream",
     "text": [
      "1/1 [==============================] - 0s 38ms/step\n"
     ]
    }
   ],
   "source": [
    "# 훈련세트 1번째 앵클부츠로 특성맵 생성\n",
    "inputs = train_input[0:1].reshape(-1, 28, 28, 1) / 255.0\n",
    "feature_maps = model2_first_layer.predict(inputs)"
   ]
  },
  {
   "cell_type": "code",
   "execution_count": 43,
   "id": "c35f659c",
   "metadata": {},
   "outputs": [
    {
     "data": {
      "text/plain": [
       "(1, 28, 28, 32)"
      ]
     },
     "execution_count": 43,
     "metadata": {},
     "output_type": "execute_result"
    }
   ],
   "source": [
    "feature_maps.shape"
   ]
  },
  {
   "cell_type": "markdown",
   "id": "395d86f9",
   "metadata": {},
   "source": [
    "- matplotlib colormap : https://matplotlib.org/stable/users/explain/colors/colormaps.html"
   ]
  },
  {
   "cell_type": "code",
   "execution_count": 44,
   "id": "a850474f",
   "metadata": {},
   "outputs": [
    {
     "data": {
      "image/png": "[encoded data removed]",
      "text/plain": [
       "<Figure size 1500x800 with 32 Axes>"
      ]
     },
     "metadata": {},
     "output_type": "display_data"
    }
   ],
   "source": [
    "fig, axs = plt.subplots(4, 8, figsize=(15, 8))\n",
    "for i in range(4):\n",
    "    for j in range(8):\n",
    "        axs[i, j].imshow(feature_maps[0,:,:, i*8 + j], cmap='viridis')\n",
    "        axs[i, j].axis('off')\n",
    "\n",
    "plt.show()"
   ]
  },
  {
   "cell_type": "markdown",
   "id": "03681d37",
   "metadata": {},
   "source": [
    "- 위는 첫번째 합성곱을 통과한 앵클부츠의 결과화면"
   ]
  },
  {
   "cell_type": "markdown",
   "id": "0ed93185",
   "metadata": {},
   "source": [
    "#### 결론\n",
    "- 일반신경망이나 심층신경망으로 훈련했을 때 보다 정확도가 높아짐\n",
    "- 심층신경망 : 대략 88%\n",
    "- `합성곱신경망` : 대략 92%\n",
    "\n",
    "##### 머신러닝/딥러닝 프레임워크 종류\n",
    "- 사이킷 런 : 머신러닝에 특화된 프레임워크\n",
    "    - 몇몇 기능은 다른 프레임워크에 없어서 같이 사용중\n",
    "- 텐서플로/케라스 : 구글 개발 머신러닝 프레임워크\n",
    "- `파이토치` : 페이스북(메타) 개발 머신러닝 프레임워크\n",
    "- fastai : 파이토치 기반으로 된 딥러닝 프레임워크\n",
    "- JAX : 구글 개발 최첨단 연구용 딥러닝 프레임워크\n",
    "- MXNet : 아마존 개발."
   ]
  }
 ],
 "metadata": {
  "kernelspec": {
   "display_name": "mlvenv",
   "language": "python",
   "name": "python3"
  },
  "language_info": {
   "codemirror_mode": {
    "name": "ipython",
    "version": 3
   },
   "file_extension": ".py",
   "mimetype": "text/x-python",
   "name": "python",
   "nbconvert_exporter": "python",
   "pygments_lexer": "ipython3",
   "version": "3.11.9"
  }
 },
 "nbformat": 4,
 "nbformat_minor": 5
}
